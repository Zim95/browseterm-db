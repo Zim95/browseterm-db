{
 "cells": [
  {
   "cell_type": "markdown",
   "id": "c20c9fbd",
   "metadata": {},
   "source": [
    "# Migrator Usage\n",
    "Here we will have some sample code to use migrator. First run the cell below to run necessary imports."
   ]
  },
  {
   "cell_type": "code",
   "execution_count": 1,
   "id": "10483515",
   "metadata": {},
   "outputs": [
    {
     "name": "stdout",
     "output_type": "stream",
     "text": [
      "Imports done, current working directory:  /Users/namahshrestha/projects/browseterm-db\n"
     ]
    }
   ],
   "source": [
    "# change the base path to the root of the project\n",
    "import sys\n",
    "from pathlib import Path\n",
    "import os\n",
    "from dotenv import load_dotenv\n",
    "\n",
    "# Get current working directory and add parent to path\n",
    "current_dir = Path.cwd()\n",
    "parent_dir = current_dir.parent.parent\n",
    "os.chdir(str(parent_dir))\n",
    "sys.path.append(str(parent_dir))\n",
    "\n",
    "# load the environment variables\n",
    "load_dotenv('.env')\n",
    "\n",
    "from src.common.config import DBConfig\n",
    "from src.migrations.migrator import Migrator\n",
    "\n",
    "db_config: DBConfig = DBConfig(\n",
    "    username=os.getenv('TEST_DB_USERNAME'),\n",
    "    password=os.getenv('TEST_DB_PASSWORD'),\n",
    "    host=os.getenv('TEST_DB_HOST'),\n",
    "    port=int(os.getenv('TEST_DB_PORT')),\n",
    "    database=os.getenv('TEST_DB_DATABASE')\n",
    ")\n",
    "\n",
    "m: Migrator = Migrator(db_config)\n",
    "print('Imports done, current working directory: ', os.getcwd())"
   ]
  },
  {
   "cell_type": "markdown",
   "id": "6a763b54",
   "metadata": {},
   "source": [
    "Now that we have set things up. Let's run the migrations"
   ]
  },
  {
   "cell_type": "code",
   "execution_count": 3,
   "id": "f1fbb432",
   "metadata": {},
   "outputs": [
    {
     "data": {
      "text/plain": [
       "True"
      ]
     },
     "execution_count": 3,
     "metadata": {},
     "output_type": "execute_result"
    }
   ],
   "source": [
    "# to check if database is clean\n",
    "m.is_database_clean()"
   ]
  },
  {
   "cell_type": "code",
   "execution_count": 31,
   "id": "27d9f353",
   "metadata": {},
   "outputs": [
    {
     "name": "stdout",
     "output_type": "stream",
     "text": [
      "Resetting database...\n",
      "Database reset complete.\n"
     ]
    },
    {
     "data": {
      "text/plain": [
       "True"
      ]
     },
     "execution_count": 31,
     "metadata": {},
     "output_type": "execute_result"
    }
   ],
   "source": [
    "# clean database if database is not clean\n",
    "if not m.is_database_clean():\n",
    "    m.reset_database()\n",
    "m.is_database_clean()"
   ]
  },
  {
   "cell_type": "code",
   "execution_count": 4,
   "id": "06b4b19a",
   "metadata": {},
   "outputs": [
    {
     "data": {
      "text/plain": [
       "True"
      ]
     },
     "execution_count": 4,
     "metadata": {},
     "output_type": "execute_result"
    }
   ],
   "source": [
    "# to check if migrations are clean\n",
    "m.is_migrations_clean()"
   ]
  },
  {
   "cell_type": "code",
   "execution_count": 5,
   "id": "10cbe251",
   "metadata": {},
   "outputs": [
    {
     "data": {
      "text/plain": [
       "True"
      ]
     },
     "execution_count": 5,
     "metadata": {},
     "output_type": "execute_result"
    }
   ],
   "source": [
    "# if migrations are not clean, reset them\n",
    "if not m.is_migrations_clean():\n",
    "    m.reset_migrations()\n",
    "m.is_migrations_clean()"
   ]
  },
  {
   "cell_type": "code",
   "execution_count": 6,
   "id": "03b5e351",
   "metadata": {},
   "outputs": [
    {
     "name": "stderr",
     "output_type": "stream",
     "text": [
      "INFO  [alembic.runtime.migration] Context impl PostgresqlImpl.\n",
      "INFO  [alembic.runtime.migration] Will assume transactional DDL.\n",
      "INFO  [alembic.autogenerate.compare] Detected added table 'subscription_types'\n",
      "INFO  [alembic.autogenerate.compare] Detected added index 'idx_subscription_type_amount' on '('amount',)'\n",
      "INFO  [alembic.autogenerate.compare] Detected added index 'idx_subscription_type_is_active' on '('is_active',)'\n",
      "INFO  [alembic.autogenerate.compare] Detected added index 'idx_subscription_type_type' on '('type',)'\n"
     ]
    },
    {
     "name": "stdout",
     "output_type": "stream",
     "text": [
      "Tables, before revision:  []\n",
      "Creating migration: Initial migration - create all tables\n"
     ]
    },
    {
     "name": "stderr",
     "output_type": "stream",
     "text": [
      "INFO  [alembic.autogenerate.compare] Detected added table 'users'\n",
      "INFO  [alembic.autogenerate.compare] Detected added index 'idx_user_email_provider' on '('email', 'provider')'\n",
      "INFO  [alembic.autogenerate.compare] Detected added index 'idx_user_is_active' on '('is_active',)'\n",
      "INFO  [alembic.autogenerate.compare] Detected added index 'idx_user_provider' on '('provider',)'\n",
      "INFO  [alembic.autogenerate.compare] Detected added index 'ix_users_email' on '('email',)'\n",
      "INFO  [alembic.autogenerate.compare] Detected added table 'containers'\n",
      "INFO  [alembic.autogenerate.compare] Detected added index 'idx_container_deleted_at' on '('deleted_at',)'\n",
      "INFO  [alembic.autogenerate.compare] Detected added index 'idx_container_status' on '('status',)'\n",
      "INFO  [alembic.autogenerate.compare] Detected added index 'idx_container_user_id' on '('user_id',)'\n",
      "INFO  [alembic.autogenerate.compare] Detected added index 'idx_container_user_status' on '('user_id', 'status')'\n",
      "INFO  [alembic.autogenerate.compare] Detected added table 'subscriptions'\n",
      "INFO  [alembic.autogenerate.compare] Detected added index 'idx_subscription_auto_renew' on '('auto_renew',)'\n",
      "INFO  [alembic.autogenerate.compare] Detected added index 'idx_subscription_status' on '('status',)'\n",
      "INFO  [alembic.autogenerate.compare] Detected added index 'idx_subscription_type_id' on '('subscription_type_id',)'\n",
      "INFO  [alembic.autogenerate.compare] Detected added index 'idx_subscription_user_id' on '('user_id',)'\n",
      "INFO  [alembic.autogenerate.compare] Detected added index 'idx_subscription_valid_until' on '('valid_until',)'\n",
      "INFO  [alembic.autogenerate.compare] Detected added table 'orders'\n",
      "INFO  [alembic.autogenerate.compare] Detected added index 'idx_orders_created_at' on '('created_at',)'\n",
      "INFO  [alembic.autogenerate.compare] Detected added index 'idx_orders_payment_provider_id' on '('payment_provider_id',)'\n",
      "INFO  [alembic.autogenerate.compare] Detected added index 'idx_orders_status' on '('status',)'\n",
      "INFO  [alembic.autogenerate.compare] Detected added index 'idx_orders_subscription_id' on '('subscription_id',)'\n",
      "INFO  [alembic.autogenerate.compare] Detected added index 'idx_orders_user_id' on '('user_id',)'\n",
      "INFO  [alembic.autogenerate.compare] Detected added index 'idx_orders_user_status' on '('user_id', 'status')'\n"
     ]
    },
    {
     "name": "stdout",
     "output_type": "stream",
     "text": [
      "Generating /Users/namahshrestha/projects/browseterm-db/src/migrations/versions/e2a25e74dee5_initial_migration_create_all_tables.py ..."
     ]
    },
    {
     "name": "stderr",
     "output_type": "stream",
     "text": [
      "INFO  [alembic.runtime.migration] Context impl PostgresqlImpl.\n",
      "INFO  [alembic.runtime.migration] Will assume transactional DDL.\n",
      "INFO  [alembic.runtime.migration] Running upgrade  -> e2a25e74dee5, Initial migration - create all tables\n"
     ]
    },
    {
     "name": "stdout",
     "output_type": "stream",
     "text": [
      "  done\n",
      "Created new migration with revision ID: e2a25e74dee5\n",
      "Tables, after revision:  ['alembic_version']\n",
      "Tables, after upgrade:  ['alembic_version', 'users', 'containers', 'subscription_types', 'subscriptions', 'orders']\n",
      "Found directory: __pycache__\n"
     ]
    },
    {
     "data": {
      "text/plain": [
       "False"
      ]
     },
     "execution_count": 6,
     "metadata": {},
     "output_type": "execute_result"
    }
   ],
   "source": [
    "# major usage\n",
    "\n",
    "print('Tables, before revision: ', m.get_tables())\n",
    "\n",
    "# if there are no migrations, create a new one.\n",
    "if m.is_migrations_clean():\n",
    "    m.revision('Initial migration - create all tables')\n",
    "\n",
    "print('Tables, after revision: ', m.get_tables())\n",
    "\n",
    "# regardless of whether the database is clean or not, upgrade the database.\n",
    "# because if migrations are created we are good.\n",
    "m.upgrade()\n",
    "\n",
    "print('Tables, after upgrade: ', m.get_tables())\n",
    "\n",
    "# then check if database and migrations are clean.\n",
    "m.is_database_clean()\n",
    "m.is_migrations_clean()\n",
    "    "
   ]
  }
 ],
 "metadata": {
  "kernelspec": {
   "display_name": "browseterm-db-PSO32mGZ-py3.12",
   "language": "python",
   "name": "python3"
  },
  "language_info": {
   "codemirror_mode": {
    "name": "ipython",
    "version": 3
   },
   "file_extension": ".py",
   "mimetype": "text/x-python",
   "name": "python",
   "nbconvert_exporter": "python",
   "pygments_lexer": "ipython3",
   "version": "3.12.4"
  }
 },
 "nbformat": 4,
 "nbformat_minor": 5
}
